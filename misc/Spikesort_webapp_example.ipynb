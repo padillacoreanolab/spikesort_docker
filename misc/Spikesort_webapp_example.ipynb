{
 "cells": [
  {
   "cell_type": "markdown",
   "metadata": {},
   "source": [
    "# Preprocessing and Spike Sorting Tutorial"
   ]
  },
  {
   "cell_type": "markdown",
   "metadata": {},
   "source": [
    "- In this introductory example, you will see how to use the :code:`spikeinterface` to perform a full electrophysiology analysis.\n",
    "- We will first create some simulated data, and we will then perform some pre-processing, run a couple of spike sorting algorithms, inspect and validate the results, export to Phy, and compare spike sorters.\n"
   ]
  },
  {
   "cell_type": "code",
   "execution_count": 1,
   "metadata": {},
   "outputs": [
    {
     "name": "stderr",
     "output_type": "stream",
     "text": [
      "C:\\Users\\Padilla-Coreano\\AppData\\Local\\Temp\\ipykernel_32260\\2390589238.py:6: DeprecationWarning: the imp module is deprecated in favour of importlib; see the module's documentation for alternative uses\n",
      "  import imp\n"
     ]
    },
    {
     "data": {
      "text/plain": [
       "<Figure size 640x480 with 0 Axes>"
      ]
     },
     "metadata": {},
     "output_type": "display_data"
    }
   ],
   "source": [
    "import os\n",
    "import pickle\n",
    "import glob\n",
    "import warnings\n",
    "import git\n",
    "import imp\n",
    "import spikeinterface\n",
    "import time\n",
    "import json\n",
    "import spikeinterface.core\n",
    "import numpy as np\n",
    "import pandas as pd\n",
    "import scipy.signal\n",
    "import _pickle as cPickle\n",
    "import matplotlib.pyplot as plt\n",
    "import spikeinterface as si  # import core only\n",
    "import spikeinterface.extractors as se\n",
    "import spikeinterface.sorters as ss\n",
    "import spikeinterface.preprocessing as sp\n",
    "import spikeinterface.comparison as sc\n",
    "import spikeinterface.widgets as sw\n",
    "import spikeinterface.full as si\n",
    "import mountainsort5 as ms5\n",
    "from collections import defaultdict\n",
    "from datetime import datetime\n",
    "from matplotlib.pyplot import cm\n",
    "from spikeinterface.exporters import export_to_phy\n",
    "from probeinterface import get_probe\n",
    "from probeinterface.plotting import plot_probe, plot_probe_group\n",
    "from probeinterface import write_prb, read_prb\n",
    "from pathlib import Path\n",
    "import gradio as gr\n",
    "\n",
    "# Changing the figure size\n",
    "from matplotlib.pyplot import figure\n",
    "figure(figsize=(8, 6), dpi=80)\n",
    "plt.rcParams[\"figure.figsize\"] = (10,6)"
   ]
  },
  {
   "cell_type": "code",
   "execution_count": 2,
   "metadata": {},
   "outputs": [],
   "source": [
    "def spikesort():\n",
    "    pwd = r\"C:\\Users\\Padilla-Coreano\\Desktop\\GITHUB_REPOS\\diff_fam_social_memory_ephys\" # os.getcwd()\n",
    "    print(pwd)\n",
    "    prb_file_path = Path(f\"{pwd}/data/nancyprobe_linearprobelargespace.prb\")\n",
    "    probe_object = read_prb(prb_file_path)\n",
    "    probe_df = probe_object.to_dataframe()\n",
    "    print(probe_df)\n",
    "    recording_filepath_glob = str(Path(f\"{pwd}/data/**/*merged.rec\"))\n",
    "    all_recording_files = glob.glob(recording_filepath_glob, recursive=True)\n",
    "    \n",
    "    for recording_file in all_recording_files:\n",
    "        trodes_recording = se.read_spikegadgets(recording_file, stream_id=\"trodes\")       \n",
    "        trodes_recording = trodes_recording.set_probes(probe_object)\n",
    "        recording_basename = os.path.basename(recording_file)\n",
    "        recording_output_directory = str(Path(f\"{pwd}/proc1/{recording_basename}\"))\n",
    "        os.makedirs(recording_output_directory, exist_ok=True)\n",
    "        child_spikesorting_output_directory = os.path.join(recording_output_directory,\"ss_output\")\n",
    "\n",
    "        # Make sure the recording is preprocessed appropriately\n",
    "        # lazy preprocessing\n",
    "        recording_filtered = sp.bandpass_filter(trodes_recording, freq_min=300, freq_max=6000)\n",
    "        recording_preprocessed: si.BaseRecording = sp.whiten(recording_filtered, dtype='float32')\n",
    "        spike_sorted_object = ms5.sorting_scheme2(\n",
    "        recording=recording_preprocessed,\n",
    "        sorting_parameters=ms5.Scheme2SortingParameters(\n",
    "            detect_sign=0,\n",
    "            phase1_detect_channel_radius=700,\n",
    "            detect_channel_radius=700,\n",
    "            # other parameters...\n",
    "            )\n",
    "                )\n",
    "        print(\"STARTING SORTING...\")\n",
    "        spike_sorted_object.save(folder=child_spikesorting_output_directory)\n",
    "\n",
    "        sw.plot_rasters(spike_sorted_object)\n",
    "        plt.title(recording_basename)\n",
    "        plt.ylabel(\"Unit IDs\")\n",
    "\n",
    "        plt.savefig(os.path.join(recording_output_directory, f\"{recording_basename}_raster_plot.png\"))\n",
    "        plt.close()\n",
    "\n",
    "        waveform_output_directory = os.path.join(recording_output_directory, \"waveforms\")\n",
    "\n",
    "        we_spike_sorted = si.extract_waveforms(recording=recording_preprocessed, \n",
    "                                       sorting=spike_sorted_object, folder=waveform_output_directory,\n",
    "                                      ms_before=1, ms_after=1, progress_bar=True,\n",
    "                                      n_jobs=8, total_memory=\"1G\", overwrite=True,\n",
    "                                       max_spikes_per_unit=2000)\n",
    "\n",
    "        phy_output_directory = os.path.join(recording_output_directory, \"phy\")\n",
    "        print(\"Saving PHY2 output...\")\n",
    "        export_to_phy(we_spike_sorted, phy_output_directory,\n",
    "              compute_pc_features=True, compute_amplitudes=True, remove_if_exists=False)\n",
    "        print(\"PHY2 output Saved!\")\n",
    "\n",
    "    return \"SPIKES ARE SORTED! :)\""
   ]
  },
  {
   "cell_type": "code",
   "execution_count": 3,
   "metadata": {
    "collapsed": true,
    "jupyter": {
     "outputs_hidden": true
    },
    "tags": []
   },
   "outputs": [
    {
     "name": "stdout",
     "output_type": "stream",
     "text": [
      "C:\\Users\\Padilla-Coreano\\Desktop\\GITHUB_REPOS\\diff_fam_social_memory_ephys\n",
      "    probe_index     x      y contact_shapes  radius shank_ids contact_ids\n",
      "0             0   0.0    0.0         circle     5.0                      \n",
      "1             0   5.0   20.0         circle     5.0                      \n",
      "2             0  -7.0   40.0         circle     5.0                      \n",
      "3             0   9.0   60.0         circle     5.0                      \n",
      "4             0 -11.0   80.0         circle     5.0                      \n",
      "5             0  13.0  100.0         circle     5.0                      \n",
      "6             0 -15.0  120.0         circle     5.0                      \n",
      "7             0  17.0  140.0         circle     5.0                      \n",
      "8             0 -19.0  160.0         circle     5.0                      \n",
      "9             0  21.0  180.0         circle     5.0                      \n",
      "10            0 -23.0  200.0         circle     5.0                      \n",
      "11            0  25.0  220.0         circle     5.0                      \n",
      "12            0 -27.0  240.0         circle     5.0                      \n",
      "13            0  29.0  260.0         circle     5.0                      \n",
      "14            0 -31.0  280.0         circle     5.0                      \n",
      "15            0  33.0  300.0         circle     5.0                      \n",
      "16            0 -35.0  320.0         circle     5.0                      \n",
      "17            0  37.0  340.0         circle     5.0                      \n",
      "18            0 -39.0  360.0         circle     5.0                      \n",
      "19            0  41.0  380.0         circle     5.0                      \n",
      "20            0 -43.0  400.0         circle     5.0                      \n",
      "21            0  45.0  420.0         circle     5.0                      \n",
      "22            0 -47.0  440.0         circle     5.0                      \n",
      "23            0  49.0  460.0         circle     5.0                      \n",
      "24            0 -51.0  480.0         circle     5.0                      \n",
      "25            0  53.0  500.0         circle     5.0                      \n",
      "26            0 -55.0  520.0         circle     5.0                      \n",
      "27            0  57.0  540.0         circle     5.0                      \n",
      "28            0 -59.0  560.0         circle     5.0                      \n",
      "29            0  61.0  580.0         circle     5.0                      \n",
      "30            0 -63.0  600.0         circle     5.0                      \n",
      "31            0  65.0  620.0         circle     5.0                      \n",
      "Number of channels: 32\n",
      "Number of timepoints: 24011226\n",
      "Sampling frequency: 20000.0 Hz\n",
      "Channel 0: [0. 0.]\n",
      "Channel 1: [ 5. 20.]\n",
      "Channel 2: [-7. 40.]\n",
      "Channel 3: [ 9. 60.]\n",
      "Channel 4: [-11.  80.]\n",
      "Channel 5: [ 13. 100.]\n",
      "Channel 6: [-15. 120.]\n",
      "Channel 7: [ 17. 140.]\n",
      "Channel 8: [-19. 160.]\n",
      "Channel 9: [ 21. 180.]\n",
      "Channel 10: [-23. 200.]\n",
      "Channel 11: [ 25. 220.]\n",
      "Channel 12: [-27. 240.]\n",
      "Channel 13: [ 29. 260.]\n",
      "Channel 14: [-31. 280.]\n",
      "Channel 15: [ 33. 300.]\n",
      "Channel 16: [-35. 320.]\n",
      "Channel 17: [ 37. 340.]\n",
      "Channel 18: [-39. 360.]\n",
      "Channel 19: [ 41. 380.]\n",
      "Channel 20: [-43. 400.]\n",
      "Channel 21: [ 45. 420.]\n",
      "Channel 22: [-47. 440.]\n",
      "Channel 23: [ 49. 460.]\n",
      "Channel 24: [-51. 480.]\n",
      "Channel 25: [ 53. 500.]\n",
      "Channel 26: [-55. 520.]\n",
      "Channel 27: [ 57. 540.]\n",
      "Channel 28: [-59. 560.]\n",
      "Channel 29: [ 61. 580.]\n",
      "Channel 30: [-63. 600.]\n",
      "Channel 31: [ 65. 620.]\n",
      "Loading traces\n"
     ]
    },
    {
     "ename": "KeyboardInterrupt",
     "evalue": "",
     "output_type": "error",
     "traceback": [
      "\u001b[1;31m---------------------------------------------------------------------------\u001b[0m",
      "\u001b[1;31mKeyboardInterrupt\u001b[0m                         Traceback (most recent call last)",
      "Cell \u001b[1;32mIn[3], line 1\u001b[0m\n\u001b[1;32m----> 1\u001b[0m \u001b[43mspikesort\u001b[49m\u001b[43m(\u001b[49m\u001b[43m)\u001b[49m\n",
      "Cell \u001b[1;32mIn[2], line 23\u001b[0m, in \u001b[0;36mspikesort\u001b[1;34m()\u001b[0m\n\u001b[0;32m     21\u001b[0m recording_filtered \u001b[38;5;241m=\u001b[39m sp\u001b[38;5;241m.\u001b[39mbandpass_filter(trodes_recording, freq_min\u001b[38;5;241m=\u001b[39m\u001b[38;5;241m300\u001b[39m, freq_max\u001b[38;5;241m=\u001b[39m\u001b[38;5;241m6000\u001b[39m)\n\u001b[0;32m     22\u001b[0m recording_preprocessed: si\u001b[38;5;241m.\u001b[39mBaseRecording \u001b[38;5;241m=\u001b[39m sp\u001b[38;5;241m.\u001b[39mwhiten(recording_filtered, dtype\u001b[38;5;241m=\u001b[39m\u001b[38;5;124m'\u001b[39m\u001b[38;5;124mfloat32\u001b[39m\u001b[38;5;124m'\u001b[39m)\n\u001b[1;32m---> 23\u001b[0m spike_sorted_object \u001b[38;5;241m=\u001b[39m \u001b[43mms5\u001b[49m\u001b[38;5;241;43m.\u001b[39;49m\u001b[43msorting_scheme2\u001b[49m\u001b[43m(\u001b[49m\n\u001b[0;32m     24\u001b[0m \u001b[43m\u001b[49m\u001b[43mrecording\u001b[49m\u001b[38;5;241;43m=\u001b[39;49m\u001b[43mrecording_preprocessed\u001b[49m\u001b[43m,\u001b[49m\n\u001b[0;32m     25\u001b[0m \u001b[43m\u001b[49m\u001b[43msorting_parameters\u001b[49m\u001b[38;5;241;43m=\u001b[39;49m\u001b[43mms5\u001b[49m\u001b[38;5;241;43m.\u001b[39;49m\u001b[43mScheme2SortingParameters\u001b[49m\u001b[43m(\u001b[49m\n\u001b[0;32m     26\u001b[0m \u001b[43m    \u001b[49m\u001b[43mdetect_sign\u001b[49m\u001b[38;5;241;43m=\u001b[39;49m\u001b[38;5;241;43m0\u001b[39;49m\u001b[43m,\u001b[49m\n\u001b[0;32m     27\u001b[0m \u001b[43m    \u001b[49m\u001b[43mphase1_detect_channel_radius\u001b[49m\u001b[38;5;241;43m=\u001b[39;49m\u001b[38;5;241;43m700\u001b[39;49m\u001b[43m,\u001b[49m\n\u001b[0;32m     28\u001b[0m \u001b[43m    \u001b[49m\u001b[43mdetect_channel_radius\u001b[49m\u001b[38;5;241;43m=\u001b[39;49m\u001b[38;5;241;43m700\u001b[39;49m\u001b[43m,\u001b[49m\n\u001b[0;32m     29\u001b[0m \u001b[43m    \u001b[49m\u001b[38;5;66;43;03m# other parameters...\u001b[39;49;00m\n\u001b[0;32m     30\u001b[0m \u001b[43m    \u001b[49m\u001b[43m)\u001b[49m\n\u001b[0;32m     31\u001b[0m \u001b[43m        \u001b[49m\u001b[43m)\u001b[49m\n\u001b[0;32m     32\u001b[0m \u001b[38;5;28mprint\u001b[39m(\u001b[38;5;124m\"\u001b[39m\u001b[38;5;124mSTARTING SORTING...\u001b[39m\u001b[38;5;124m\"\u001b[39m)\n\u001b[0;32m     33\u001b[0m spike_sorted_object\u001b[38;5;241m.\u001b[39msave(folder\u001b[38;5;241m=\u001b[39mchild_spikesorting_output_directory)\n",
      "File \u001b[1;32m~\\.conda\\envs\\spike_interface_0_97_1\\lib\\site-packages\\mountainsort5\\schemes\\sorting_scheme2.py:78\u001b[0m, in \u001b[0;36msorting_scheme2\u001b[1;34m(recording, sorting_parameters, return_snippet_classifiers, reference_snippet_classifiers, label_offset)\u001b[0m\n\u001b[0;32m     75\u001b[0m     training_recording \u001b[38;5;241m=\u001b[39m recording\n\u001b[0;32m     77\u001b[0m \u001b[38;5;66;03m# Run the first phase of spike sorting (same as sorting_scheme1)\u001b[39;00m\n\u001b[1;32m---> 78\u001b[0m sorting1 \u001b[38;5;241m=\u001b[39m \u001b[43msorting_scheme1\u001b[49m\u001b[43m(\u001b[49m\n\u001b[0;32m     79\u001b[0m \u001b[43m    \u001b[49m\u001b[43mrecording\u001b[49m\u001b[38;5;241;43m=\u001b[39;49m\u001b[43mtraining_recording\u001b[49m\u001b[43m,\u001b[49m\n\u001b[0;32m     80\u001b[0m \u001b[43m    \u001b[49m\u001b[43msorting_parameters\u001b[49m\u001b[38;5;241;43m=\u001b[39;49m\u001b[43mScheme1SortingParameters\u001b[49m\u001b[43m(\u001b[49m\n\u001b[0;32m     81\u001b[0m \u001b[43m        \u001b[49m\u001b[43mdetect_threshold\u001b[49m\u001b[38;5;241;43m=\u001b[39;49m\u001b[43msorting_parameters\u001b[49m\u001b[38;5;241;43m.\u001b[39;49m\u001b[43mphase1_detect_threshold\u001b[49m\u001b[43m,\u001b[49m\n\u001b[0;32m     82\u001b[0m \u001b[43m        \u001b[49m\u001b[43mdetect_sign\u001b[49m\u001b[38;5;241;43m=\u001b[39;49m\u001b[43msorting_parameters\u001b[49m\u001b[38;5;241;43m.\u001b[39;49m\u001b[43mdetect_sign\u001b[49m\u001b[43m,\u001b[49m\n\u001b[0;32m     83\u001b[0m \u001b[43m        \u001b[49m\u001b[43mdetect_time_radius_msec\u001b[49m\u001b[38;5;241;43m=\u001b[39;49m\u001b[43msorting_parameters\u001b[49m\u001b[38;5;241;43m.\u001b[39;49m\u001b[43mphase1_detect_time_radius_msec\u001b[49m\u001b[43m,\u001b[49m\n\u001b[0;32m     84\u001b[0m \u001b[43m        \u001b[49m\u001b[43mdetect_channel_radius\u001b[49m\u001b[38;5;241;43m=\u001b[39;49m\u001b[43msorting_parameters\u001b[49m\u001b[38;5;241;43m.\u001b[39;49m\u001b[43mphase1_detect_channel_radius\u001b[49m\u001b[43m,\u001b[49m\n\u001b[0;32m     85\u001b[0m \u001b[43m        \u001b[49m\u001b[43msnippet_mask_radius\u001b[49m\u001b[38;5;241;43m=\u001b[39;49m\u001b[43msorting_parameters\u001b[49m\u001b[38;5;241;43m.\u001b[39;49m\u001b[43msnippet_mask_radius\u001b[49m\u001b[43m,\u001b[49m\n\u001b[0;32m     86\u001b[0m \u001b[43m        \u001b[49m\u001b[43msnippet_T1\u001b[49m\u001b[38;5;241;43m=\u001b[39;49m\u001b[43msorting_parameters\u001b[49m\u001b[38;5;241;43m.\u001b[39;49m\u001b[43msnippet_T1\u001b[49m\u001b[43m,\u001b[49m\n\u001b[0;32m     87\u001b[0m \u001b[43m        \u001b[49m\u001b[43msnippet_T2\u001b[49m\u001b[38;5;241;43m=\u001b[39;49m\u001b[43msorting_parameters\u001b[49m\u001b[38;5;241;43m.\u001b[39;49m\u001b[43msnippet_T2\u001b[49m\u001b[43m,\u001b[49m\n\u001b[0;32m     88\u001b[0m \u001b[43m        \u001b[49m\u001b[43mnpca_per_channel\u001b[49m\u001b[38;5;241;43m=\u001b[39;49m\u001b[43msorting_parameters\u001b[49m\u001b[38;5;241;43m.\u001b[39;49m\u001b[43mphase1_npca_per_channel\u001b[49m\u001b[43m,\u001b[49m\n\u001b[0;32m     89\u001b[0m \u001b[43m        \u001b[49m\u001b[43mnpca_per_subdivision\u001b[49m\u001b[38;5;241;43m=\u001b[39;49m\u001b[43msorting_parameters\u001b[49m\u001b[38;5;241;43m.\u001b[39;49m\u001b[43mphase1_npca_per_subdivision\u001b[49m\n\u001b[0;32m     90\u001b[0m \u001b[43m    \u001b[49m\u001b[43m)\u001b[49m\n\u001b[0;32m     91\u001b[0m \u001b[43m\u001b[49m\u001b[43m)\u001b[49m\n\u001b[0;32m     92\u001b[0m times, labels \u001b[38;5;241m=\u001b[39m get_times_labels_from_sorting(sorting1)\n\u001b[0;32m     93\u001b[0m K \u001b[38;5;241m=\u001b[39m np\u001b[38;5;241m.\u001b[39mmax(labels) \u001b[38;5;66;03m# number of clusters\u001b[39;00m\n",
      "File \u001b[1;32m~\\.conda\\envs\\spike_interface_0_97_1\\lib\\site-packages\\mountainsort5\\schemes\\sorting_scheme1.py:53\u001b[0m, in \u001b[0;36msorting_scheme1\u001b[1;34m(recording, sorting_parameters)\u001b[0m\n\u001b[0;32m     50\u001b[0m sorting_parameters\u001b[38;5;241m.\u001b[39mcheck_valid(M\u001b[38;5;241m=\u001b[39mM, N\u001b[38;5;241m=\u001b[39mN, sampling_frequency\u001b[38;5;241m=\u001b[39msampling_frequency, channel_locations\u001b[38;5;241m=\u001b[39mchannel_locations)\n\u001b[0;32m     52\u001b[0m \u001b[38;5;28mprint\u001b[39m(\u001b[38;5;124m'\u001b[39m\u001b[38;5;124mLoading traces\u001b[39m\u001b[38;5;124m'\u001b[39m)\n\u001b[1;32m---> 53\u001b[0m traces \u001b[38;5;241m=\u001b[39m \u001b[43mrecording\u001b[49m\u001b[38;5;241;43m.\u001b[39;49m\u001b[43mget_traces\u001b[49m\u001b[43m(\u001b[49m\u001b[43m)\u001b[49m\n\u001b[0;32m     55\u001b[0m \u001b[38;5;28mprint\u001b[39m(\u001b[38;5;124m'\u001b[39m\u001b[38;5;124mDetecting spikes\u001b[39m\u001b[38;5;124m'\u001b[39m)\n\u001b[0;32m     56\u001b[0m time_radius \u001b[38;5;241m=\u001b[39m \u001b[38;5;28mint\u001b[39m(math\u001b[38;5;241m.\u001b[39mceil(sorting_parameters\u001b[38;5;241m.\u001b[39mdetect_time_radius_msec \u001b[38;5;241m/\u001b[39m \u001b[38;5;241m1000\u001b[39m \u001b[38;5;241m*\u001b[39m sampling_frequency))\n",
      "File \u001b[1;32m~\\.conda\\envs\\spike_interface_0_97_1\\lib\\site-packages\\spikeinterface\\core\\baserecording.py:160\u001b[0m, in \u001b[0;36mBaseRecording.get_traces\u001b[1;34m(self, segment_index, start_frame, end_frame, channel_ids, order, return_scaled, cast_unsigned)\u001b[0m\n\u001b[0;32m    158\u001b[0m channel_indices \u001b[38;5;241m=\u001b[39m \u001b[38;5;28mself\u001b[39m\u001b[38;5;241m.\u001b[39mids_to_indices(channel_ids, prefer_slice\u001b[38;5;241m=\u001b[39m\u001b[38;5;28;01mTrue\u001b[39;00m)\n\u001b[0;32m    159\u001b[0m rs \u001b[38;5;241m=\u001b[39m \u001b[38;5;28mself\u001b[39m\u001b[38;5;241m.\u001b[39m_recording_segments[segment_index]\n\u001b[1;32m--> 160\u001b[0m traces \u001b[38;5;241m=\u001b[39m \u001b[43mrs\u001b[49m\u001b[38;5;241;43m.\u001b[39;49m\u001b[43mget_traces\u001b[49m\u001b[43m(\u001b[49m\u001b[43mstart_frame\u001b[49m\u001b[38;5;241;43m=\u001b[39;49m\u001b[43mstart_frame\u001b[49m\u001b[43m,\u001b[49m\u001b[43m \u001b[49m\u001b[43mend_frame\u001b[49m\u001b[38;5;241;43m=\u001b[39;49m\u001b[43mend_frame\u001b[49m\u001b[43m,\u001b[49m\u001b[43m \u001b[49m\u001b[43mchannel_indices\u001b[49m\u001b[38;5;241;43m=\u001b[39;49m\u001b[43mchannel_indices\u001b[49m\u001b[43m)\u001b[49m\n\u001b[0;32m    161\u001b[0m \u001b[38;5;28;01mif\u001b[39;00m order \u001b[38;5;129;01mis\u001b[39;00m \u001b[38;5;129;01mnot\u001b[39;00m \u001b[38;5;28;01mNone\u001b[39;00m:\n\u001b[0;32m    162\u001b[0m     \u001b[38;5;28;01massert\u001b[39;00m order \u001b[38;5;129;01min\u001b[39;00m [\u001b[38;5;124m\"\u001b[39m\u001b[38;5;124mC\u001b[39m\u001b[38;5;124m\"\u001b[39m, \u001b[38;5;124m\"\u001b[39m\u001b[38;5;124mF\u001b[39m\u001b[38;5;124m\"\u001b[39m]\n",
      "File \u001b[1;32m~\\.conda\\envs\\spike_interface_0_97_1\\lib\\site-packages\\spikeinterface\\preprocessing\\whiten.py:86\u001b[0m, in \u001b[0;36mWhitenRecordingSegment.get_traces\u001b[1;34m(self, start_frame, end_frame, channel_indices)\u001b[0m\n\u001b[0;32m     83\u001b[0m \u001b[38;5;28;01mif\u001b[39;00m traces_dtype\u001b[38;5;241m.\u001b[39mkind \u001b[38;5;241m==\u001b[39m \u001b[38;5;124m\"\u001b[39m\u001b[38;5;124mu\u001b[39m\u001b[38;5;124m\"\u001b[39m:\n\u001b[0;32m     84\u001b[0m     traces_chunk \u001b[38;5;241m=\u001b[39m traces_chunk\u001b[38;5;241m.\u001b[39mastype(\u001b[38;5;124m\"\u001b[39m\u001b[38;5;124mfloat32\u001b[39m\u001b[38;5;124m\"\u001b[39m)\n\u001b[1;32m---> 86\u001b[0m whiten_traces \u001b[38;5;241m=\u001b[39m \u001b[43m(\u001b[49m\u001b[43mtraces\u001b[49m\u001b[43m \u001b[49m\u001b[38;5;241;43m-\u001b[39;49m\u001b[43m \u001b[49m\u001b[38;5;28;43mself\u001b[39;49m\u001b[38;5;241;43m.\u001b[39;49m\u001b[43mM\u001b[49m\u001b[43m)\u001b[49m\u001b[43m \u001b[49m\u001b[38;5;241;43m@\u001b[39;49m\u001b[43m \u001b[49m\u001b[38;5;28;43mself\u001b[39;49m\u001b[38;5;241;43m.\u001b[39;49m\u001b[43mW\u001b[49m\n\u001b[0;32m     87\u001b[0m whiten_traces \u001b[38;5;241m=\u001b[39m whiten_traces[:, channel_indices]\n\u001b[0;32m     88\u001b[0m \u001b[38;5;28;01mreturn\u001b[39;00m whiten_traces\u001b[38;5;241m.\u001b[39mastype(\u001b[38;5;28mself\u001b[39m\u001b[38;5;241m.\u001b[39mdtype)\n",
      "\u001b[1;31mKeyboardInterrupt\u001b[0m: "
     ]
    }
   ],
   "source": [
    "spikesort()"
   ]
  },
  {
   "cell_type": "code",
   "execution_count": null,
   "metadata": {
    "tags": []
   },
   "outputs": [],
   "source": [
    "# # gradio app example\n",
    "\n",
    "# def spikesort(data_dir):\n",
    "#     pwd = os.getcwd()\n",
    "#     prb_file_path = Path(pwd +\"/nancyprobe_linearprobelargespace.prb\")\n",
    "#     probe_object = read_prb(prb_file_path)\n",
    "#     probe_df = probe_object.to_dataframe()\n",
    "    \n",
    "#     recording_filepath_glob = str(Path(data_dir + \"/**/*merged.rec\"))\n",
    "#     all_recording_files = glob.glob(recording_filepath_glob, recursive=True)\n",
    "    \n",
    "#     for recording_file in all_recording_files:\n",
    "#         trodes_recording = se.read_spikegadgets(recording_file, stream_id=\"trodes\")       \n",
    "#         trodes_recording = trodes_recording.set_probes(probe_object)\n",
    "#         recording_basename = os.path.basename(recording_file)\n",
    "#         recording_output_directory = f\"./proc1/{recording_basename}\"\n",
    "#         os.makedirs(recording_output_directory, exist_ok=True)\n",
    "#         child_spikesorting_output_directory = os.path.join(recording_output_directory,\"ss_output\")\n",
    "\n",
    "#         # Make sure the recording is preprocessed appropriately\n",
    "#         # lazy preprocessing\n",
    "#         recording_filtered = sp.bandpass_filter(trodes_recording, freq_min=300, freq_max=6000)\n",
    "#         recording_preprocessed: si.BaseRecording = sp.whiten(recording_filtered, dtype='float32')\n",
    "#         spike_sorted_object = ms5.sorting_scheme2(\n",
    "#         recording=recording_preprocessed,\n",
    "#         sorting_parameters=ms5.Scheme2SortingParameters(\n",
    "#             detect_sign=0,\n",
    "#             phase1_detect_channel_radius=700,\n",
    "#             detect_channel_radius=700,\n",
    "#             # other parameters...\n",
    "#             )\n",
    "#                 )\n",
    "#         spike_sorted_object.save(folder=child_spikesorting_output_directory)\n",
    "\n",
    "#         sw.plot_rasters(spike_sorted_object)\n",
    "#         plt.title(recording_basename)\n",
    "#         plt.ylabel(\"Unit IDs\")\n",
    "\n",
    "#         plt.savefig(os.path.join(recording_output_directory, f\"{recording_basename}_raster_plot.png\"))\n",
    "#         plt.close()\n",
    "\n",
    "#         waveform_output_directory = os.path.join(parent_spikesorting_output_directory, \"waveforms\")\n",
    "\n",
    "#         we_spike_sorted = si.extract_waveforms(recording=recording_preprocessed, \n",
    "#                                        sorting=spike_sorted_object, folder=waveform_output_directory,\n",
    "#                                       ms_before=1, ms_after=1, progress_bar=True,\n",
    "#                                       n_jobs=8, total_memory=\"1G\", overwrite=True,\n",
    "#                                        max_spikes_per_unit=2000)\n",
    "\n",
    "#         phy_output_directory = os.path.join(parent_spikesorting_output_directory, \"phy\")\n",
    "\n",
    "#         export_to_phy(we_spike_sorted, phy_output_directory,\n",
    "#               compute_pc_features=True, compute_amplitudes=True, remove_if_exists=False)\n",
    "        \n",
    "#     return(\"SPIKES ARE SORTED! :)\")\n",
    "\n",
    "# input_text = gr.inputs.Textbox(label=\"Enter folder path\")\n",
    "# output_text = gr.outputs.Textbox(label=\"Status\")\n",
    "# interface = gr.Interface(fn=spikesort, inputs=input_text, outputs= output_text)\n",
    "# interface.launch()"
   ]
  },
  {
   "cell_type": "markdown",
   "metadata": {},
   "source": [
    "----------------------"
   ]
  },
  {
   "cell_type": "markdown",
   "metadata": {},
   "source": [
    "# Inputs"
   ]
  },
  {
   "cell_type": "markdown",
   "metadata": {},
   "source": [
    "* PRB file\n",
    "* recording files path\n",
    "* output_dir (otherwise use default and send to download folder)"
   ]
  },
  {
   "cell_type": "markdown",
   "metadata": {},
   "source": [
    "# Processing"
   ]
  },
  {
   "cell_type": "markdown",
   "metadata": {},
   "source": [
    "* Spikesorting\n",
    "* LFP"
   ]
  },
  {
   "cell_type": "markdown",
   "metadata": {},
   "source": [
    "# Outputs"
   ]
  },
  {
   "cell_type": "markdown",
   "metadata": {},
   "source": [
    "* probe_df as display of table?\n",
    "* phy exports (export_to_phy())"
   ]
  },
  {
   "cell_type": "markdown",
   "metadata": {},
   "source": [
    "----------------------"
   ]
  }
 ],
 "metadata": {
  "kernelspec": {
   "display_name": "Python (spike_interface_0_97_1)",
   "language": "python",
   "name": "spike_interface_0_97_1"
  },
  "language_info": {
   "codemirror_mode": {
    "name": "ipython",
    "version": 3
   },
   "file_extension": ".py",
   "mimetype": "text/x-python",
   "name": "python",
   "nbconvert_exporter": "python",
   "pygments_lexer": "ipython3",
   "version": "3.9.16"
  },
  "vscode": {
   "interpreter": {
    "hash": "916dbcbb3f70747c44a77c7bcd40155683ae19c65e1c03b4aa3499c5328201f1"
   }
  }
 },
 "nbformat": 4,
 "nbformat_minor": 4
}
