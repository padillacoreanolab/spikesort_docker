{
 "cells": [
  {
   "cell_type": "markdown",
   "metadata": {},
   "source": [
    "# Preprocessing and Spike Sorting Tutorial"
   ]
  },
  {
   "cell_type": "markdown",
   "metadata": {},
   "source": [
    "- In this introductory example, you will see how to use the :code:`spikeinterface` to perform a full electrophysiology analysis.\n",
    "- We will first create some simulated data, and we will then perform some pre-processing, run a couple of spike sorting algorithms, inspect and validate the results, export to Phy, and compare spike sorters.\n"
   ]
  },
  {
   "cell_type": "code",
   "execution_count": 3,
   "metadata": {},
   "outputs": [],
   "source": [
    "import os\n",
    "import pickle\n",
    "import glob\n",
    "import warnings\n",
    "import git\n",
    "import imp\n",
    "import spikeinterface\n",
    "import time\n",
    "import json\n",
    "import spikeinterface.core\n",
    "import numpy as np\n",
    "import pandas as pd\n",
    "import scipy.signal\n",
    "import _pickle as cPickle\n",
    "import matplotlib.pyplot as plt\n",
    "import spikeinterface as si  # import core only\n",
    "import spikeinterface.extractors as se\n",
    "import spikeinterface.sorters as ss\n",
    "import spikeinterface.preprocessing as sp\n",
    "import spikeinterface.comparison as sc\n",
    "import spikeinterface.widgets as sw\n",
    "import spikeinterface.full as si\n",
    "import mountainsort5 as ms5\n",
    "from collections import defaultdict\n",
    "from datetime import datetime\n",
    "from matplotlib.pyplot import cm\n",
    "from spikeinterface.exporters import export_to_phy\n",
    "from probeinterface import get_probe\n",
    "from probeinterface.plotting import plot_probe, plot_probe_group\n",
    "from probeinterface import write_prb, read_prb\n",
    "from pathlib import Path\n",
    "\n",
    "# Changing the figure size\n",
    "# from matplotlib.pyplot import figure\n",
    "# figure(figsize=(8, 6), dpi=80)\n",
    "# plt.rcParams[\"figure.figsize\"] = (10,6)"
   ]
  },
  {
   "cell_type": "markdown",
   "metadata": {},
   "source": [
    "----------------------"
   ]
  },
  {
   "cell_type": "markdown",
   "metadata": {},
   "source": [
    "# Inputs"
   ]
  },
  {
   "cell_type": "markdown",
   "metadata": {},
   "source": [
    "* PRB file\n",
    "* recording files path\n",
    "* output_dir (otherwise use default and send to download folder)"
   ]
  },
  {
   "cell_type": "markdown",
   "metadata": {},
   "source": [
    "# Processing"
   ]
  },
  {
   "cell_type": "code",
   "execution_count": null,
   "metadata": {},
   "outputs": [],
   "source": [
    "prb_file_path = Path(\"path/to/file.prb\")\n",
    "probe_object = read_prb(prb_file_path)\n",
    "probe_df = probe_object.to_dataframe()\n",
    "\n",
    "recording_filepath_glob = \"data/**/*merged.rec\"\n",
    "all_recording_files = glob.glob(recording_absolultepath_glob, recursive=True) # get all *merged.rec files in path\n",
    "\n",
    "output_dir = Path(\"path/to/dir\")\n",
    "\n",
    "####################\n",
    "for recording_file in all_recording_files:\n",
    "    trodes_recording = se.read_spikegadgets(recording_file, stream_id=\"trodes\")       \n",
    "    trodes_recording = trodes_recording.set_probes(probe_object)\n",
    "    recording_basename = os.path.basename(recording_file)\n",
    "    recording_output_directory = f\"./proc/{recording_basename}\"\n",
    "    os.makedirs(recording_output_directory, exist_ok=True)\n",
    "    child_spikesorting_output_directory = os.path.join(recording_output_directory,\"ss_output\")\n",
    "    \n",
    "    # Make sure the recording is preprocessed appropriately\n",
    "    # lazy preprocessing\n",
    "    recording_filtered = sp.bandpass_filter(trodes_recording, freq_min=300, freq_max=6000)\n",
    "    recording_preprocessed: si.BaseRecording = sp.whiten(recording_filtered, dtype='float32')\n",
    "    spike_sorted_object = ms5.sorting_scheme2(\n",
    "    recording=recording_preprocessed,\n",
    "    sorting_parameters=ms5.Scheme2SortingParameters(\n",
    "        detect_sign=0,\n",
    "        phase1_detect_channel_radius=700,\n",
    "        detect_channel_radius=700,\n",
    "        # other parameters...\n",
    "        )\n",
    "            )\n",
    "    spike_sorted_object.save(folder=child_spikesorting_output_directory)\n",
    "\n",
    "    sw.plot_rasters(spike_sorted_object)\n",
    "    plt.title(recording_basename)\n",
    "    plt.ylabel(\"Unit IDs\")\n",
    "\n",
    "    plt.savefig(os.path.join(recording_output_directory, f\"{recording_basename}_raster_plot.png\"))\n",
    "    plt.close()\n",
    "\n",
    "    waveform_output_directory = os.path.join(parent_spikesorting_output_directory, \"waveforms\")\n",
    "\n",
    "    we_spike_sorted = si.extract_waveforms(recording=recording_preprocessed, \n",
    "                                   sorting=spike_sorted_object, folder=waveform_output_directory,\n",
    "                                  ms_before=1, ms_after=1, progress_bar=True,\n",
    "                                  n_jobs=8, total_memory=\"1G\", overwrite=True,\n",
    "                                   max_spikes_per_unit=2000)\n",
    "\n",
    "    phy_output_directory = os.path.join(parent_spikesorting_output_directory, \"phy\")\n",
    "\n",
    "    export_to_phy(we_spike_sorted, phy_output_directory,\n",
    "          compute_pc_features=True, compute_amplitudes=True, remove_if_exists=False)\n",
    "\n",
    "    \n",
    "# Make sure the recording is preprocessed appropriately\n",
    "# lazy preprocessing\n",
    "recording_filtered = sp.bandpass_filter(trodes_recording, freq_min=300, freq_max=6000)\n",
    "recording_preprocessed: si.BaseRecording = sp.whiten(recording_filtered, dtype='float32')\n",
    "spike_sorted_object = ms5.sorting_scheme2(\n",
    "recording=recording_preprocessed,\n",
    "sorting_parameters=ms5.Scheme2SortingParameters(\n",
    "    detect_sign=0,\n",
    "    phase1_detect_channel_radius=700,\n",
    "    detect_channel_radius=700,\n",
    "    # other parameters...\n",
    "    )\n",
    "        )\n",
    "spike_sorted_object.save(folder=child_spikesorting_output_directory)\n",
    "\n",
    "sw.plot_rasters(spike_sorted_object)\n",
    "plt.title('plot_title')\n",
    "plt.ylabel(\"Unit IDs\")\n",
    "\n",
    "plt.savefig(os.path.join(recording_output_directory, \"{}_raster_plot.png\".format(recording_basename)))\n",
    "plt.close()\n",
    "\n",
    "waveform_output_directory = os.path.join(parent_spikesorting_output_directory, \"waveforms\")\n",
    "\n",
    "we_spike_sorted = si.extract_waveforms(recording=recording_preprocessed, \n",
    "                               sorting=spike_sorted_object, folder=waveform_output_directory,\n",
    "                              ms_before=1, ms_after=1, progress_bar=True,\n",
    "                              n_jobs=8, total_memory=\"1G\", overwrite=True,\n",
    "                               max_spikes_per_unit=2000)\n",
    "\n",
    "phy_output_directory = os.path.join(parent_spikesorting_output_directory, \"phy\")\n",
    "\n",
    "export_to_phy(we_spike_sorted, phy_output_directory,\n",
    "      compute_pc_features=True, compute_amplitudes=True, remove_if_exists=False)"
   ]
  },
  {
   "cell_type": "markdown",
   "metadata": {},
   "source": [
    "# Outputs"
   ]
  },
  {
   "cell_type": "markdown",
   "metadata": {},
   "source": [
    "* probe_df as display of table?\n",
    "* phy exports (export_to_phy())"
   ]
  },
  {
   "cell_type": "markdown",
   "metadata": {},
   "source": [
    "----------------------"
   ]
  }
 ],
 "metadata": {
  "kernelspec": {
   "display_name": "Python (spike_interface_0_97_1)",
   "language": "python",
   "name": "spike_interface_0_97_1"
  },
  "language_info": {
   "codemirror_mode": {
    "name": "ipython",
    "version": 3
   },
   "file_extension": ".py",
   "mimetype": "text/x-python",
   "name": "python",
   "nbconvert_exporter": "python",
   "pygments_lexer": "ipython3",
   "version": "3.9.16"
  },
  "vscode": {
   "interpreter": {
    "hash": "916dbcbb3f70747c44a77c7bcd40155683ae19c65e1c03b4aa3499c5328201f1"
   }
  }
 },
 "nbformat": 4,
 "nbformat_minor": 4
}
